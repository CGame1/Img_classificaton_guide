{
 "cells": [
  {
   "cell_type": "markdown",
   "id": "67a0ea25",
   "metadata": {},
   "source": [
    "<a href=\"https://colab.research.google.com/github/CGame1/Img_classificaton_guide/blob/main/notebooks/create_hf_dataset.ipynb\" target=\"_parent\"><img src=\"https://colab.research.google.com/assets/colab-badge.svg\" alt=\"Open In Colab\"/></a>\n"
   ]
  },
  {
   "cell_type": "code",
   "execution_count": null,
   "id": "95c1e751",
   "metadata": {},
   "outputs": [],
   "source": [
    "from datasets import load_dataset\n",
    "import os\n",
    "\n",
    "#path to image folder\n",
    "path = \"../images\"\n",
    "\n",
    "#load as dataset\n",
    "dataset = load_dataset(\"imagefolder\", data_dir=path, split=\"all\")"
   ]
  },
  {
   "cell_type": "code",
   "execution_count": null,
   "id": "36ddabab",
   "metadata": {},
   "outputs": [],
   "source": [
    "import numpy as np\n",
    "import pandas as pd\n",
    "import os\n",
    "\n",
    "\n",
    "# load annotations\n",
    "data = pd.read_csv(\"../Annotations.csv\")\n",
    "\n",
    "# remove non-image rows\n",
    "data.dropna(subset=[\"IMAGE water\"], inplace=True)\n",
    "\n",
    "# only use image rows\n",
    "labels = list(data[\"Cluster descr (Linktree Clusters)\"])\n",
    "\n",
    "# get full image paths\n",
    "imgs = list(path + data[\"IMAGE water\"])\n",
    "\n",
    "# only work on existing images\n",
    "idx = [os.path.exists(img) for img in imgs]\n",
    "labels = list(np.array(labels)[idx])\n",
    "imgs = list(np.array(imgs)[idx])\n",
    "\n",
    "labels_dict = {os.path.basename(img): label for img, label in zip(imgs, labels)}\n",
    "\n",
    "labels_dict\n"
   ]
  },
  {
   "cell_type": "code",
   "execution_count": null,
   "id": "28de642c",
   "metadata": {},
   "outputs": [],
   "source": [
    "#add labels to dataset\n",
    "def add_labels(example):\n",
    "    fname = os.path.basename(example[\"image\"].filename)\n",
    "    example[\"label\"] = labels_dict[fname]\n",
    "\n",
    "    example[\"filename\"] = os.path.basename(example[\"image\"].filename)   \n",
    "     \n",
    "    return example\n",
    "\n",
    "dataset = dataset.map(add_labels)\n"
   ]
  },
  {
   "cell_type": "code",
   "execution_count": null,
   "id": "9c350c32",
   "metadata": {},
   "outputs": [],
   "source": [
    "#pust to hugging face\n",
    "dataset.push_to_hub(\"CGame1/schulz_bank_biotopes\", split='full')"
   ]
  },
  {
   "cell_type": "code",
   "execution_count": null,
   "id": "6093796f",
   "metadata": {},
   "outputs": [],
   "source": [
    "from huggingface_hub import login\n",
    "login()"
   ]
  },
  {
   "cell_type": "code",
   "execution_count": null,
   "id": "0168f9f2",
   "metadata": {},
   "outputs": [],
   "source": [
    "#load dataset from hugging face\n",
    "from datasets import load_dataset\n",
    "name = \"CGame1/schulz_bank_biotopes\"\n",
    "dataset = load_dataset(path=name, split=\"all\")\n"
   ]
  },
  {
   "cell_type": "code",
   "execution_count": null,
   "id": "c7bf0df2",
   "metadata": {},
   "outputs": [],
   "source": [
    "# save images locally\n",
    "from pathlib import Path\n",
    "import numpy as np\n",
    "import os\n",
    "from tqdm import tqdm \n",
    "\n",
    "base_path = Path(\"../images\")\n",
    "\n",
    "for i in tqdm(np.arange(len(dataset))):\n",
    "    i = int(i)\n",
    "    save_path = base_path\n",
    "\n",
    "    if not os.path.exists(save_path):\n",
    "        os.mkdir(save_path)\n",
    "\n",
    "    dataset[i][\"image\"].save(f\"{save_path}/{dataset[i][\"filename\"]}\")"
   ]
  }
 ],
 "metadata": {
  "kernelspec": {
   "display_name": "test_env",
   "language": "python",
   "name": "python3"
  },
  "language_info": {
   "codemirror_mode": {
    "name": "ipython",
    "version": 3
   },
   "file_extension": ".py",
   "mimetype": "text/x-python",
   "name": "python",
   "nbconvert_exporter": "python",
   "pygments_lexer": "ipython3",
   "version": "3.12.7"
  }
 },
 "nbformat": 4,
 "nbformat_minor": 5
}
