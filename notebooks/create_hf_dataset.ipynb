{
 "cells": [
  {
   "cell_type": "markdown",
   "id": "67a0ea25",
   "metadata": {},
   "source": [
    "<a href=\"https://colab.research.google.com/github/CGame1/Img_classificaton_guide/blob/main/notebooks/create_hf_dataset.ipynb\" target=\"_parent\"><img src=\"https://colab.research.google.com/assets/colab-badge.svg\" alt=\"Open In Colab\"/></a>\n"
   ]
  },
  {
   "cell_type": "code",
   "execution_count": null,
   "id": "95c1e751",
   "metadata": {},
   "outputs": [],
   "source": [
    "# from datasets import load_dataset\n",
    "\n",
    "\n",
    "# dataset = load_dataset(\"imagefolder\", data_dir=\"\", split=\"all\")\n",
    "# dataset[0][\"image\"]\n",
    "\n",
    "# import os\n",
    "# os.path.basename(dataset[0]['image'].filename)"
   ]
  },
  {
   "cell_type": "code",
   "execution_count": null,
   "id": "6093796f",
   "metadata": {},
   "outputs": [
    {
     "data": {
      "application/vnd.jupyter.widget-view+json": {
       "model_id": "b1efb8f07ce64d8f92db415a795fd3e3",
       "version_major": 2,
       "version_minor": 0
      },
      "text/plain": [
       "VBox(children=(HTML(value='<center> <img\\nsrc=https://huggingface.co/front/assets/huggingface_logo-noborder.sv…"
      ]
     },
     "metadata": {},
     "output_type": "display_data"
    }
   ],
   "source": [
    "from huggingface_hub import login\n",
    "login()"
   ]
  },
  {
   "cell_type": "code",
   "execution_count": null,
   "id": "0168f9f2",
   "metadata": {},
   "outputs": [],
   "source": [
    "from datasets import load_dataset\n",
    "# name= \"Prabhjotschugh/Salish-Sea-Fishes\"\n",
    "# name = \"zh-plus/tiny-imagenet\"\n",
    "name = \"ILSVRC/imagenet-1k\"\n",
    "name= \"nf-whoi/coralnet-small\"\n",
    "# name= \"esahit/coral-health-classification\"\n",
    "\n",
    "dataset = load_dataset(name)\n"
   ]
  },
  {
   "cell_type": "code",
   "execution_count": null,
   "id": "4dd2d5eb",
   "metadata": {},
   "outputs": [
    {
     "data": {
      "text/plain": [
       "DatasetDict({\n",
       "    train: Dataset({\n",
       "        features: ['image'],\n",
       "        num_rows: 1599\n",
       "    })\n",
       "})"
      ]
     },
     "execution_count": 104,
     "metadata": {},
     "output_type": "execute_result"
    }
   ],
   "source": [
    "dataset"
   ]
  },
  {
   "cell_type": "code",
   "execution_count": null,
   "id": "c7bf0df2",
   "metadata": {},
   "outputs": [
    {
     "name": "stderr",
     "output_type": "stream",
     "text": [
      "100%|██████████| 4/4 [00:04<00:00,  1.13s/it]\n"
     ]
    }
   ],
   "source": [
    "from pathlib import Path\n",
    "import numpy as np\n",
    "import os\n",
    "from tqdm import tqdm \n",
    "\n",
    "# base_path = Path(\"../images\")\n",
    "base_path = Path(\"/content/images\")\n",
    "\n",
    "for i in tqdm(np.arange(600)):\n",
    "    i = int(i)\n",
    "    save_path = base_path\n",
    "\n",
    "    # if 'label' in dataset['train'][i].keys():\n",
    "    #     save_path = save_path / f'{dataset['train'][i]['label']}'\n",
    "\n",
    "    if os.path.exists(save_path) == False:\n",
    "        os.mkdir(save_path)\n",
    "\n",
    "    dataset['train'][i][\"image\"].save(f\"{save_path}/{str(i)}.jpg\")"
   ]
  }
 ],
 "metadata": {
  "kernelspec": {
   "display_name": "test_env",
   "language": "python",
   "name": "python3"
  },
  "language_info": {
   "codemirror_mode": {
    "name": "ipython",
    "version": 3
   },
   "file_extension": ".py",
   "mimetype": "text/x-python",
   "name": "python",
   "nbconvert_exporter": "python",
   "pygments_lexer": "ipython3",
   "version": "3.12.7"
  }
 },
 "nbformat": 4,
 "nbformat_minor": 5
}
