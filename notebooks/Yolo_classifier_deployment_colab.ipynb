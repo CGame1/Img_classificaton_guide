{
  "cells": [
    {
      "cell_type": "markdown",
      "metadata": {
        "id": "QYiR2jfBth3-"
      },
      "source": [
        "**Authors**:  \n",
        "\n",
        "- Dr. Chloe Game ([CGame1](https://github.com/CGame1)) – University of Bergen (UiB)\n",
        "- Dr. Nils Piechaud ([Npiechaud](https://github.com/Npiechaud)) – Institute of Marine Research (IMR)"
      ]
    },
    {
      "cell_type": "markdown",
      "metadata": {
        "id": "OExvH4tph1zF"
      },
      "source": [
        "# Deploying YOLO image classifier\n",
        "\n",
        "This notebook contains python code to deploy a [YOLO](https://docs.ultralytics.com/tasks/classify/) model to classify a set of images.\n",
        "\n",
        "To simplify the process for inexperienced python users, this code can be run online in Google Colab - though there are some [caveats](#caveats-of-google-colab). This code can also be run in jupyter notebook / visual studio code. However this requires hardware (GPU) and some additional setup which is not currently covered in this notebook."
      ]
    },
    {
      "cell_type": "markdown",
      "metadata": {
        "id": "ZZkg3ACEtWcj"
      },
      "source": [
        "> **Note:** This notebook is a supplement to the paper (TBC) that will guide a user through automated image classification with Machine Learning. Please refer to the paper for more details on terminology, methods, results and analysis.\n",
        "![image](https://github.com/CGame1/Img_classificaton_guide/blob/main/docs/workflow.png?raw=true)\n",
        "*Figure 1: Simplified and idealized diagram of an ML scenario. Each box represents a key task and corresponds to a section of this paper to aid comprehension.  While presented largely linearly for clarity, real-world ML workflows are often iterative and non-linear and the need to revisit specific sections may vary depending on the scenario.*"
      ]
    },
    {
      "cell_type": "markdown",
      "metadata": {
        "id": "_gmfHPRUh1zF"
      },
      "source": [
        "## Requirements\n",
        "\n",
        "To run this notebook, you require the following:\n",
        "\n",
        "1. A trained model as a .pt file. that can be accessed by colab so it must be online or uploade to the VM\n",
        "2. Some images to make predictions on. All into one directory that can be accessed by colab.\n",
        "3. A **Google account** (if using Google Colab) - If you do not have one, you can create one [here](https://accounts.google.com/signup).\n",
        "4. **Storage space** for saving training/testing outputs - If permitted in Colab, these can be saved to your Google Drive. As a default, Google Drive contains 15GB of free storage.\n",
        "\n",
        "    - The models themselves are light (~100 of mb max ):\n",
        "    - The new images can take space. That up to the users\n",
        "    - Users can also decide to export the images with the prediction overlay which will requires adequate space (duh!)\n"
      ]
    },
    {
      "cell_type": "markdown",
      "metadata": {
        "id": "n7B-jEAvh1zG"
      },
      "source": [
        "> **Tip:** It is recommended to first try the notebook with the public data. You can then try with your own data.\n",
        "\n",
        "<mark>**Next Step:**</mark> You can now proceed to [How to use this notebook](#how-to-use)"
      ]
    },
    {
      "cell_type": "markdown",
      "metadata": {
        "id": "inWrPHSPh1zG"
      },
      "source": [
        "## Contents (!!! UPDATE !!! )\n",
        "\n",
        "- [How to use this notebook](#how-to-use-this-notebook)\n",
        "- [1. Prepare computer session](#1-prepare-computer-session-run-everytime) - **Run this everytime**\n",
        "- [2. Load model ](#2-download-data)\n",
        "- [3. Load & Prepare data](#3-load--prepare-data-run-everytime) - **Run this everytime**\n",
        "- [4. make and export predictions](#4-training--validation)\n",
        "\n"
      ]
    },
    {
      "cell_type": "markdown",
      "metadata": {
        "id": "0yYkt3Rvth4B"
      },
      "source": [
        "## How to use this notebook\n",
        "\n",
        "\n",
        "1. Click the **Open in Colab** button at the top of this notebook to open the notebook in Google Colab. This will open a new tab in your browser with the notebook loaded. If you are not already signed into Google, you will be prompted to do so.\n",
        "\n",
        "![image](https://github.com/CGame1/Img_classificaton_guide/blob/main/docs/google_sign_in.png?raw=true)\n",
        "\n",
        "*Figure 2: Google sign-in warning message.*\n",
        "\n"
      ]
    },
    {
      "cell_type": "markdown",
      "metadata": {
        "id": "fqccIpdYth4B"
      },
      "source": [
        "\n",
        "2. Follow the instructions in the notebook to prepare your computer session, download the data, load and prepare the data, train & test the model, and evaluate the results.\n",
        "\n",
        "3. Work linearly, using the play button on the left side of each cell to run it (see [How to run cells](https://www.youtube.com/watch?v=rsBiVxzmhG0)). It is not recommended to run all cells at once, in case of errors. A green tick will appear next to the cell when it has run successfully.\n",
        "\n"
      ]
    },
    {
      "cell_type": "markdown",
      "metadata": {
        "id": "ktt2ZGfjth4C"
      },
      "source": [
        "\n",
        "> **Note:** Colab will warn you about running this notebook as it is not authored by Google. This is a helpful reminder to check what public notebooks are doing before running them.\n",
        "\n",
        "![image](https://github.com/CGame1/Img_classificaton_guide/blob/main/docs/warning_colab.png?raw=true)\n",
        "\n",
        "*Figure 3: Colab warning message.*\n",
        "\n"
      ]
    },
    {
      "cell_type": "markdown",
      "metadata": {
        "id": "ggIgYy_Hth4C"
      },
      "source": [
        "\n",
        "4. To navigate through the notebook, you can use the **Table of Contents** on the left pane to jump to different sections if working in Colab. In Jupyter you can use the internal links in the notebook to jump to specific sections, for example in the **Contents** section above.\n",
        "\n",
        "<img src=\"https://github.com/CGame1/Img_classificaton_guide/blob/main/docs/table_contents.PNG?raw=true\" width=\"400\">\n",
        "\n",
        "*Figure 4: Location of Table of Contents in Colab*\n",
        "\n"
      ]
    },
    {
      "cell_type": "markdown",
      "metadata": {
        "id": "8nB_Z0cKth4C"
      },
      "source": [
        "5. **Very Important:** The only inputs you **must** make or verify are shown as a ***text field*** or ***option buttons***. Run the code cells below to see examples.  "
      ]
    },
    {
      "cell_type": "code",
      "execution_count": null,
      "metadata": {
        "colab": {
          "base_uri": "https://localhost:8080/",
          "height": 49,
          "referenced_widgets": [
            "a741fc9a7c1a4add8d0a8367817c00ee",
            "08c6dc5aa31a4d3bb5d474c4f5ec5252",
            "7bfb1d016c8b4c21ba9d638f4ff515c8"
          ]
        },
        "id": "Gji6nDK6h1zG",
        "outputId": "8388e0f9-50fe-4785-949a-eb89351ccbb6"
      },
      "outputs": [],
      "source": [
        "import ipywidgets as widgets\n",
        "from IPython.display import display\n",
        "\n",
        "# Display UI\n",
        "display(widgets.Text(value=\"This is a text field\", layout=widgets.Layout(width=\"50%\")))"
      ]
    },
    {
      "cell_type": "code",
      "execution_count": null,
      "metadata": {
        "colab": {
          "base_uri": "https://localhost:8080/",
          "height": 50,
          "referenced_widgets": [
            "054a22260af84afba9abcf6e7c8aee46",
            "c3e684289d7943de83d9880140188cf3",
            "b738a108f10443279d8d56b4db6ce4ad"
          ]
        },
        "id": "4T2EqlWxsPAy",
        "outputId": "cb3943ae-7f7e-4430-98a7-377ddbdfb96e"
      },
      "outputs": [],
      "source": [
        "import ipywidgets as widgets\n",
        "from IPython.display import display\n",
        "\n",
        "# Create a toggle button widget\n",
        "toggle = widgets.ToggleButtons(\n",
        "    options=[\"Option 1\", \"Option 2\"],\n",
        "    description=\"Select:\",\n",
        "    style={\"description_width\": \"initial\"},\n",
        ")\n",
        "\n",
        "# Display the widget\n",
        "display(toggle)"
      ]
    },
    {
      "cell_type": "markdown",
      "metadata": {
        "id": "LCzXYiqrth4D"
      },
      "source": [
        "> **Tip:** If you run into problems, please refer to the [8. Troubleshooting](#8-troublehooting) section at the end of this notebook.\n",
        "\n",
        "<mark>**Next Step:**</mark> You can now proceed to [1. Prepare computer session](#prepare-computer-session-run-everytime)"
      ]
    },
    {
      "cell_type": "markdown",
      "metadata": {
        "id": "Ow5RMX9sh1zH"
      },
      "source": [
        "## 1. Prepare computer session **(Run everytime)**"
      ]
    },
    {
      "cell_type": "markdown",
      "metadata": {
        "id": "yH9VqgHmh1zI"
      },
      "source": [
        "### 1.1 Detect & Enable GPU\n",
        "\n",
        "This notebook is designed to run on a GPU for fast processing. If you are using Google Colab, this should be automatically detected if any are available for use. Paying for pro version of Colab will give you access to more powerful GPUs."
      ]
    },
    {
      "cell_type": "code",
      "execution_count": null,
      "metadata": {
        "colab": {
          "base_uri": "https://localhost:8080/"
        },
        "id": "6Owhgw46h1zI",
        "outputId": "67104641-972d-4a22-bdee-add59fce14fc"
      },
      "outputs": [],
      "source": [
        "import torch\n",
        "\n",
        "if not torch.cuda.is_available():\n",
        "    print(\"Warning: Not connected to a GPU! Training will be slower.\")\n",
        "    device = None\n",
        "else:\n",
        "    print(f\"Connected to GPU: {torch.cuda.get_device_name(0)}\")\n",
        "    device = torch.cuda.current_device()\n"
      ]
    },
    {
      "cell_type": "markdown",
      "metadata": {
        "id": "P38_Phash1zI"
      },
      "source": [
        "### 1.2. Install libraries (packages)\n",
        "\n",
        "Google Colab has many libraries pre-installed. However, some of the packages used in this notebook may not be available. This code will check for the required packages and install them if necessary.\n",
        "\n",
        "> **Note:** This may take a few minutes"
      ]
    },
    {
      "cell_type": "code",
      "execution_count": null,
      "metadata": {
        "colab": {
          "base_uri": "https://localhost:8080/"
        },
        "id": "ZUtdM2IKh1zI",
        "outputId": "1f6fe440-2d49-4ec6-da15-e4465b7882d1"
      },
      "outputs": [],
      "source": [
        "import sys\n",
        "\n",
        "# #code for colab. If running in jupyter notebook/rstudio/vs code, you will need to link to your own environment with these packages installed\n",
        "if \"google.colab\" in sys.modules:\n",
        "    print(\"Running in Colab\")\n",
        "\n",
        "    try:\n",
        "        !pip install ultralytics #this will look like an error outside of colab. Just ignore.\n",
        "\n",
        "        from google.colab import drive, files\n",
        "\n",
        "    except:\n",
        "        print(\"Error importing ultralytics.\")\n",
        "else:\n",
        "    print(\"Not running in Colab\")\n",
        "\n",
        "\n",
        "# load rest of libraries for notebook\n",
        "import csv\n",
        "import cv2\n",
        "import glob\n",
        "from io import StringIO\n",
        "from IPython.display import clear_output, display, Markdown\n",
        "import ipywidgets as widgets\n",
        "import json\n",
        "\n",
        "from matplotlib.patches import Patch\n",
        "from matplotlib import pyplot as plt\n",
        "\n",
        "%matplotlib inline\n",
        "\n",
        "import numpy as np\n",
        "import os\n",
        "import pandas as pd\n",
        "from pathlib import Path, PureWindowsPath\n",
        "from plotly import express as px\n",
        "import random\n",
        "import requests\n",
        "import shutil\n",
        "from sklearn.metrics import (\n",
        "    ConfusionMatrixDisplay,\n",
        "    classification_report,\n",
        "    confusion_matrix,\n",
        "    accuracy_score,\n",
        "    average_precision_score,\n",
        "    cohen_kappa_score,\n",
        "    matthews_corrcoef,\n",
        ")\n",
        "from sklearn.model_selection import train_test_split, StratifiedKFold\n",
        "import time\n",
        "from tqdm.notebook import tqdm\n",
        "import ultralytics\n",
        "from ultralytics import YOLO\n",
        "import urllib.request\n"
      ]
    },
    {
      "cell_type": "markdown",
      "metadata": {
        "id": "IYbik-c4iz0w"
      },
      "source": [
        "### 1.4. Mount G-drive\n",
        "\n",
        "You will be prompted to sign in to your Google account and grant permission to access your Google Drive. This will allow you to save files to your Google Drive. Next time you can then simply link to Google Drive and continue where you left off.\n",
        "\n",
        "![image](\n",
        "https://github.com/CGame1/Img_classificaton_guide/blob/main/docs/gdrive_access.png?raw=true)\n",
        "\n",
        "*Figure 4: G-drive access warning.*\n",
        "\n",
        "\n",
        "> **Important:** If you refuse access to Google Drive ***or*** there any issues accessing your Google Drive, all data and notebook outputs will be saved locally in the Colab session. Should you leave the session or if it becomes inactive, you may lose access to your files. You will therefore need to manually download any files you wish to keep.\n",
        "\n",
        "\n"
      ]
    },
    {
      "cell_type": "code",
      "execution_count": null,
      "metadata": {
        "colab": {
          "base_uri": "https://localhost:8080/"
        },
        "id": "EKtl0VRCitn1",
        "outputId": "43b6867a-b105-4f46-e5d0-616f5698bceb"
      },
      "outputs": [],
      "source": [
        "# check if running in colab. Not relevant if running in jupyter notebook for example\n",
        "try:\n",
        "    if \"google.colab\" in sys.modules:\n",
        "        # from google.colab import drive\n",
        "\n",
        "        drive.mount(\"/content/drive\")\n",
        "\n",
        "        base_path = \"/content/drive/MyDrive\"\n",
        "\n",
        "        # check if mounted\n",
        "        if not os.path.isdir(\"/content/drive\"):\n",
        "            base_path = os.getcwd()\n",
        "            print(\n",
        "                f\"Google drive not mounted. Using current working directory:{base_path}\"\n",
        "            )\n",
        "\n",
        "    else:\n",
        "        base_path = os.getcwd()\n",
        "        print(\n",
        "            f\"Not running in Google Colab so Google drive not mounted. Using current working directory: {base_path}\"\n",
        "        )\n",
        "\n",
        "except:\n",
        "    base_path = os.getcwd()\n",
        "    if \"google.colab\" in sys.modules:\n",
        "        print(f\"Google drive not mounted. Using current working directory:{base_path}\")\n",
        "    else:\n",
        "        print(\n",
        "            f\"Not running in Google Colab so Google drive not mounted. Using current working directory: {base_path}\"\n",
        "        )\n"
      ]
    },
    {
      "cell_type": "markdown",
      "metadata": {
        "id": "2Z61Ct6hFX-7"
      },
      "source": [
        "### 1.5. Set default directories\n",
        "\n",
        "First verify the project name. No need to change this unless you are working on a different project to Schulz Bank. The project name is used to define the base_path and project directory where all files related to the project will be saved. These paths can be changed in section ? if required.\n",
        "\n",
        "The default directory structure is as follows:\n",
        "\n",
        "  **ProjectName**\n",
        "    -   Data\n",
        "        -   Images\n",
        "        -   ...\n",
        "\n",
        "\n"
      ]
    },
    {
      "cell_type": "code",
      "execution_count": null,
      "metadata": {
        "colab": {
          "base_uri": "https://localhost:8080/",
          "height": 49,
          "referenced_widgets": [
            "a72b92a6d4754dd2881f46e400ac921e",
            "e39c4ac95fe44568ac2e78160cdbf53d",
            "7538a7e24cdd4714b5ad7c3124716726",
            "04aa6302c3ed42a5b0ea05dc80a6f86f",
            "19e656590d47420c8425bc3674df1028",
            "bf6e619ae4964f159faec71776362406",
            "2e332c4fdc98401d8eb3aced9eef28fc",
            "7d2f2fd14680465d82439da82a852d86"
          ]
        },
        "id": "5Q2w9Iy7th4E",
        "outputId": "e2855c4b-374b-4e94-c762-8545e1f4b56d"
      },
      "outputs": [],
      "source": [
        "project_name = \"shulz_bank\"\n",
        "\n",
        "# Add text field for entering path to train.json\n",
        "text_input = widgets.Text(value=project_name, layout=widgets.Layout(width=\"50%\"))\n",
        "\n",
        "# Create a bold label if in fields_to_bold, otherwise normal text\n",
        "label = widgets.HTML(f\"<b>Project name:</b>\")\n",
        "\n",
        "# Display UI\n",
        "display(widgets.HBox([label, text_input]))\n",
        "\n",
        "# Get default path\n",
        "project_name = text_input.value\n",
        "\n",
        "\n",
        "# Create function to update project name\n",
        "def update_name(change):\n",
        "    \"\"\"Update the project name based on the text input.\n",
        "\n",
        "    Args:\n",
        "        change: The change event from the text input widget.\n",
        "\n",
        "    Returns:\n",
        "        str: The updated project name.\n",
        "    \"\"\"\n",
        "    # define project name as global variable so it can be used elsewhere\n",
        "    global project_name\n",
        "\n",
        "    # Update name to value from the text input widget\n",
        "    project_name = text_input.value\n",
        "\n",
        "    return project_name\n",
        "\n",
        "\n",
        "# Update path\n",
        "text_input.observe(update_name, names=\"value\")\n"
      ]
    },
    {
      "cell_type": "code",
      "execution_count": null,
      "metadata": {
        "colab": {
          "base_uri": "https://localhost:8080/"
        },
        "id": "O5N5u5_FFYul",
        "outputId": "8503bded-61b3-4465-e9d9-6c5146e09a3c"
      },
      "outputs": [],
      "source": [
        "# Create default paths\n",
        "path = f\"{base_path}/{project_name}\"\n",
        "NEW_img_path = f\"{path}/new images/ALL\"\n",
        "weights_dir = f\"{path}/weights\"\n",
        "weights_file_name = \"best.pt\"\n",
        "weights_file = f\"{weights_dir}/{weights_file_name}\"\n",
        "\n",
        "\n",
        "directories = [path, NEW_img_path, weights_dir]\n",
        "# make the directories if they dont exist\n",
        "for directory in directories:\n",
        "    if not os.path.exists(directory):\n",
        "        os.makedirs(directory)\n",
        "        print(f\"Created directory: {directory}\")\n",
        "    else:\n",
        "        print(f\"Directory already exists: {directory}\")\n"
      ]
    },
    {
      "cell_type": "markdown",
      "metadata": {
        "id": "XS0XIYvEh1zJ"
      },
      "source": [
        "## 2. Get model and make predicions\n",
        "\n",
        "### 2.1 Download Model\n",
        "\n",
        "get one from url like hugging face. Use the\n",
        "\n",
        "In Hugging face the link must end with *?download=true*\n",
        "in your browser, right-click on hte DL button and select \"copy  link address\"\n",
        "\n",
        "load it from your gdrive\n",
        "\n",
        "load it from your desktop\n",
        "\n",
        "\n"
      ]
    },
    {
      "cell_type": "code",
      "execution_count": null,
      "metadata": {
        "colab": {
          "base_uri": "https://localhost:8080/"
        },
        "id": "-2pQxQVIA9XE",
        "outputId": "51eca41b-8568-4f49-d530-ff399a7967fa"
      },
      "outputs": [],
      "source": [
        "# paste DL URL here\n",
        "weights_url = \"https://huggingface.co/Npiechaud/Shultz_hab_class/resolve/main/Shulz_bank_yolov8m_cls/weights/best.pt?download=true\"\n",
        "\n",
        "# check if it exists and DL if need be\n",
        "if not os.path.isfile(weights_file):\n",
        "    # If the file doesn't exist, download it from the URL\n",
        "    print(f\"File not found: {weights_file}. Downloading...\")\n",
        "    urllib.request.urlretrieve(weights_url, weights_file)\n",
        "    print(f\"File downloaded and saved at: {weights_file}\")\n",
        "else:\n",
        "    print(f\"File already exists: {weights_file}\")\n"
      ]
    },
    {
      "cell_type": "markdown",
      "metadata": {
        "id": "8b0U0oCpr95F"
      },
      "source": [
        "load the model and extract names of classes\n",
        "\n",
        "Alternatively, if you have already downloaded the pt file before or you have loaded it from your local environment:"
      ]
    },
    {
      "cell_type": "code",
      "execution_count": null,
      "metadata": {
        "id": "HgG9REojs3fS"
      },
      "outputs": [],
      "source": [
        "weights_file = \"/content/drive/MyDrive/shulz_bank/weights/best.pt\""
      ]
    },
    {
      "cell_type": "code",
      "execution_count": null,
      "metadata": {
        "id": "0m1B7EjWsCAx"
      },
      "outputs": [],
      "source": [
        "# load model\n",
        "model = YOLO(weights_file)\n",
        "# model = YOLO(\"/content/drive/MyDrive/shulz_bank/weights/best - Copy.pt\")\n",
        "\n",
        "# make a table of label names\n",
        "label_names = pd.DataFrame(model.names.items(), columns=[\"class\", \"label_name\"])\n"
      ]
    },
    {
      "cell_type": "markdown",
      "metadata": {
        "id": "rPUbXSp8nx5K"
      },
      "source": [
        "detect the extension of your images"
      ]
    },
    {
      "cell_type": "code",
      "execution_count": null,
      "metadata": {
        "id": "6MSCJ_8KtL8F"
      },
      "outputs": [],
      "source": [
        "for image in glob.glob(NEW_img_path + \"/*.png\"):\n",
        "    print(image)\n"
      ]
    },
    {
      "cell_type": "markdown",
      "metadata": {
        "id": "TNpaZrMVsPA0"
      },
      "source": [
        "### 2.2. Make predictions on New images\n",
        "\n",
        "link new images directory\n",
        "\n"
      ]
    },
    {
      "cell_type": "code",
      "execution_count": null,
      "metadata": {
        "colab": {
          "base_uri": "https://localhost:8080/"
        },
        "id": "6hLlA0yTsPA0",
        "outputId": "6c938bee-bb8d-415d-f6b6-e7e6ae49cdd5"
      },
      "outputs": [],
      "source": [
        "save = True  # save the images with the predictions\n",
        "images_dir_pred = (\n",
        "    f\"{NEW_img_path}_predictions\"  # the directory where the predictions will be saved\n",
        ")\n",
        "if save:\n",
        "    # save the results to the save_dir\n",
        "    if os.path.isdir(images_dir_pred) is False:\n",
        "        os.mkdir(images_dir_pred)\n",
        "        print(\"making directory for predictions\")\n",
        "\n",
        "\n",
        "# make a dataframe to store the labels\n",
        "labels = pd.DataFrame()\n",
        "# image = glob.glob(NEW_img_path + \"/*.png\")[1] # DEBUG just to get the first image\n",
        "\n",
        "# make predictions on all images in the folder\n",
        "for image in glob.glob(NEW_img_path + \"/*.png\"):\n",
        "    print(image)\n",
        "    results = model.predict(\n",
        "        # source, can be a path to a folder\n",
        "        source=image,\n",
        "        task=\"classify\",\n",
        "        # save the images with the bbox drawn?\n",
        "        save=False,\n",
        "        # save the confidence of predictions (will appear at the end of the polygon xy string\n",
        "        save_conf=True,\n",
        "        # save the predicted masks\n",
        "        save_txt=True,\n",
        "    )\n",
        "\n",
        "    # if save is set to true, the results will be saved in the save_dir\n",
        "    if save:\n",
        "        # save the results to the save_dir\n",
        "        results[0].save(\n",
        "            image.replace(NEW_img_path, images_dir_pred).replace(\".png\", \"_pred.png\")\n",
        "        )\n",
        "\n",
        "    # results is a list of results for each image\n",
        "    df = label_names\n",
        "    # attach a new column with the score and class\n",
        "    df[\"score\"] = results[0].probs.cpu().data.tolist()\n",
        "    # attach column of which class was predicted\n",
        "    df[\"class_prediciton\"] = label_names[\"label_name\"][results[0].probs.top1]\n",
        "\n",
        "    # round the scores to 3 decimal places\n",
        "    df[\"score\"] = df[\"score\"].apply(lambda x: round(x, 3))\n",
        "    # add the filename (image name)\n",
        "    df[\"filename\"] = os.path.basename(image)\n",
        "    df.insert(0, \"filename\", df.pop(\"filename\"))\n",
        "    # add the scores to the labels table\n",
        "    labels = pd.concat([labels, df])\n",
        "    # reset index\n",
        "    labels.reset_index(drop=True, inplace=True)\n",
        "\n",
        "# end loop\n"
      ]
    },
    {
      "cell_type": "markdown",
      "metadata": {
        "id": "gx_Swx30sPA0"
      },
      "source": [
        "<mark>**Next Step:**</mark> If downloads successful, go to [3. Load & Prepare data](#load--prepare-data-run-everytime)."
      ]
    },
    {
      "cell_type": "markdown",
      "metadata": {
        "id": "Sbk5UGWJCuqd"
      },
      "source": [
        "### 2.3 Package and export predictions\n",
        "\n",
        "1.   List item\n",
        "2.   List item\n",
        "\n",
        "\n",
        "\n",
        "run the predictions command and extract predicted class and scores for each image\n",
        "\n",
        "pack each prediction into a table for easy export\n"
      ]
    },
    {
      "cell_type": "code",
      "execution_count": null,
      "metadata": {
        "id": "MQ-wfzIcq2FC"
      },
      "outputs": [],
      "source": [
        "# all predictions\n",
        "\n",
        "# add a column with model name\n",
        "labels[\"model\"] = \"v8m_noKfold\"\n",
        "\n",
        "# save the path to the detections folders\n",
        "predictions_dir = PureWindowsPath(str(model.predictor.save_dir)).as_posix()\n",
        "\n",
        "# save the labels to a csv file\n",
        "labels.to_csv(predictions_dir + \"/class_scores.csv\", index=False)\n",
        "\n",
        "# put the labels table in wide format, keep the other columns\n",
        "labels_wide = labels.pivot(\n",
        "    index=[\"filename\", \"class_prediciton\"], columns=\"label_name\", values=\"score\"\n",
        ").reset_index()\n",
        "# arrange by filename\n",
        "labels_wide = labels_wide.sort_values(by=[\"filename\"]).reset_index(drop=True)\n",
        "\n",
        "# save the wide labels table\n",
        "labels_wide.to_csv(predictions_dir + \"/class_scores_wide.csv\", index=False)\n"
      ]
    },
    {
      "cell_type": "markdown",
      "metadata": {
        "id": "qwfUDn11h1zW"
      },
      "source": [
        "## 7. Manual Export from Colab\n",
        "\n",
        "Should you need to download files from Colab manually i.e. if there is a reason you cannot add the files to Google Drive. Note that by default this ignores the **data** folder and just downloads the **runs** folder with all the training and testing results. If you wish to export a different folder, ammend the path below."
      ]
    },
    {
      "cell_type": "code",
      "execution_count": null,
      "metadata": {
        "id": "x3Qv-lUwth4R"
      },
      "outputs": [],
      "source": [
        "# import ipywidgets as widgets\n",
        "# from IPython.display import display\n",
        "\n",
        "export_folder = f\"/content/{project_name}/runs\"\n",
        "\n",
        "# Add text field for entering path to train.json\n",
        "text_input = widgets.Text(value=export_folder, layout=widgets.Layout(width=\"50%\"))\n",
        "\n",
        "# Create a bold label if in fields_to_bold, otherwise normal text\n",
        "label = widgets.HTML(f\"<b>Export folder:</b>\")\n",
        "\n",
        "# Display UI\n",
        "display(widgets.HBox([label, text_input]))\n",
        "\n",
        "# Get default path\n",
        "export_folder = text_input.value\n",
        "\n",
        "\n",
        "# Create function to update project name\n",
        "def update_folder(change):\n",
        "    \"\"\"Update the export_folder based on the text input.\n",
        "\n",
        "    Args:\n",
        "        change: The change event from the text input widget.\n",
        "\n",
        "    Returns:\n",
        "        str: The updated export_folder.\n",
        "    \"\"\"\n",
        "    # define export_folder as global variable so it can be used elsewhere\n",
        "    global export_folder\n",
        "\n",
        "    # Update name to value from the text input widget\n",
        "    export_folder = text_input.value\n",
        "\n",
        "    return export_folder\n",
        "\n",
        "\n",
        "# Update path\n",
        "text_input.observe(update_folder, names=\"value\")\n"
      ]
    },
    {
      "cell_type": "code",
      "execution_count": null,
      "metadata": {
        "id": "vw8G2xqvth4S"
      },
      "outputs": [],
      "source": [
        "# from google.colab import drive, files\n",
        "# import shutil\n",
        "\n",
        "# #check if running in colab. Not relevant if running in jupyter notebook for example\n",
        "if \"google.colab\" in sys.modules:\n",
        "    # Make sure Google Drive is not mounted\n",
        "    if not os.path.isdir(\"/content/drive\"):\n",
        "        print(f\"Exporting {os.path.basename(export_folder)}.zip\")\n",
        "\n",
        "        # make zip file\n",
        "        shutil.make_archive(\n",
        "            os.path.basename(export_folder), \"zip\", root_dir=export_folder\n",
        "        )\n",
        "\n",
        "        # download\n",
        "        files.download(f\"{os.path.basename(export_folder)}.zip\")\n",
        "\n",
        "        print(\"Finished!\")\n",
        "\n",
        "    else:\n",
        "        print(\"Google drive mounted. Your files should be there.\")\n",
        "else:\n",
        "    print(\"Not running in Colab. Your files should be saved locally.\")"
      ]
    },
    {
      "cell_type": "markdown",
      "metadata": {
        "id": "SLzitt775sbh"
      },
      "source": [
        "## 8. Troublehooting\n",
        "\n",
        "### 8.1. General\n",
        "\n",
        "> **Tip:** When encountering errors, you should not need to alter any code. Likely something has not run properly and a file/variable is missing or you have not got the correct paths.\n",
        "\n",
        "\n",
        "| Error    | Solution |\n",
        "|----------|----------|\n",
        "| Missing variables e.g. \"base_path\" is not defined\"   | Re-run Sections [1](#prepare-computer-session-run-everytime) & [2](#3-load--prepare-data-run-everytime) where they are defined|\n",
        "| Training Failed | Try again. Best to delete temporary image folder that was created to free up space |\n",
        "| Auto Download failed    | Try again later, else try the manual approach instead.   |\n",
        "| Issues with image copying  | Try deleting the partial copies/folders with errors and starting again|\n",
        "| Missing hyperparameters in [Section 3.1.2](#312-load--update)  | Maybe you have a partially downloaded train.json. Download again.|\n",
        "\n",
        "\n",
        "\n",
        "\n",
        "### 8.2. Google Colab\n",
        "\n",
        "\n",
        "#### Caveats\n",
        "\n",
        "- Speed is variable. Seems to be more demand in US working hours.\n",
        "- Get booted out of session after a certain period of time. Due to:\n",
        "  * Inactivity\n",
        "  * Resource demands (i.e. number of users)\n",
        "  * If you have been running it for a while.\n",
        "\n",
        "\n",
        "  > **Tip** Free Colab is great for a test run, but for more serious usage it may be worth paying for Colab Pro to get access to more powerful GPUs and longer session times.\n",
        "\n",
        "\n",
        "\n"
      ]
    },
    {
      "cell_type": "markdown",
      "metadata": {
        "id": "2bZy1fw6th4S"
      },
      "source": [
        "| Error    | Solution |\n",
        "|----------|----------|\n",
        "| Session crashed  | Re-run Sections [1](#prepare-computer-session-run-everytime) & [2](#3-load--prepare-data-run-everytime) where they are defined|\n",
        "| No GPUs available | Dont train models now. Focus on other tasks and try training again later|\n",
        "\n",
        "\n"
      ]
    },
    {
      "cell_type": "markdown",
      "metadata": {
        "id": "OVr9uKF3th4S"
      },
      "source": [
        "\n",
        "> **Tip:** If you are unsure of the errors, it might be worth starting the session again: i.e. re-running Sections [1](#prepare-computer-session-run-everytime) & [2](#3-load--prepare-data-run-everytime). If still getting errors, try **Runtime** > **Disconnect and Delete runtime** to reset the session to its original state and clear all variables. You will then need to re-run Sections [1](#prepare-computer-session-run-everytime) & [2](#3-load--prepare-data-run-everytime) again before continuing where you left off.\n",
        "\n",
        "\n",
        "> **Note:** If you make an update to your Google Drive, there may be a short delay before the changes are reflected in Colab."
      ]
    }
  ],
  "metadata": {
    "accelerator": "GPU",
    "colab": {
      "gpuType": "T4",
      "provenance": [],
      "toc_visible": true
    },
    "kernelspec": {
      "display_name": "test_env",
      "language": "python",
      "name": "python3"
    },
    "language_info": {
      "codemirror_mode": {
        "name": "ipython",
        "version": 3
      },
      "file_extension": ".py",
      "mimetype": "text/x-python",
      "name": "python",
      "nbconvert_exporter": "python",
      "pygments_lexer": "ipython3",
      "version": "3.12.7"
    },
    "widgets": {
      "application/vnd.jupyter.widget-state+json": {
        "04aa6302c3ed42a5b0ea05dc80a6f86f": {
          "model_module": "@jupyter-widgets/base",
          "model_module_version": "1.2.0",
          "model_name": "LayoutModel",
          "state": {
            "_model_module": "@jupyter-widgets/base",
            "_model_module_version": "1.2.0",
            "_model_name": "LayoutModel",
            "_view_count": null,
            "_view_module": "@jupyter-widgets/base",
            "_view_module_version": "1.2.0",
            "_view_name": "LayoutView",
            "align_content": null,
            "align_items": null,
            "align_self": null,
            "border": null,
            "bottom": null,
            "display": null,
            "flex": null,
            "flex_flow": null,
            "grid_area": null,
            "grid_auto_columns": null,
            "grid_auto_flow": null,
            "grid_auto_rows": null,
            "grid_column": null,
            "grid_gap": null,
            "grid_row": null,
            "grid_template_areas": null,
            "grid_template_columns": null,
            "grid_template_rows": null,
            "height": null,
            "justify_content": null,
            "justify_items": null,
            "left": null,
            "margin": null,
            "max_height": null,
            "max_width": null,
            "min_height": null,
            "min_width": null,
            "object_fit": null,
            "object_position": null,
            "order": null,
            "overflow": null,
            "overflow_x": null,
            "overflow_y": null,
            "padding": null,
            "right": null,
            "top": null,
            "visibility": null,
            "width": null
          }
        },
        "054a22260af84afba9abcf6e7c8aee46": {
          "model_module": "@jupyter-widgets/controls",
          "model_module_version": "1.5.0",
          "model_name": "ToggleButtonsModel",
          "state": {
            "_dom_classes": [],
            "_model_module": "@jupyter-widgets/controls",
            "_model_module_version": "1.5.0",
            "_model_name": "ToggleButtonsModel",
            "_options_labels": [
              "Option 1",
              "Option 2"
            ],
            "_view_count": null,
            "_view_module": "@jupyter-widgets/controls",
            "_view_module_version": "1.5.0",
            "_view_name": "ToggleButtonsView",
            "button_style": "",
            "description": "Select:",
            "description_tooltip": null,
            "disabled": false,
            "icons": [],
            "index": 0,
            "layout": "IPY_MODEL_c3e684289d7943de83d9880140188cf3",
            "style": "IPY_MODEL_b738a108f10443279d8d56b4db6ce4ad",
            "tooltips": []
          }
        },
        "08c6dc5aa31a4d3bb5d474c4f5ec5252": {
          "model_module": "@jupyter-widgets/base",
          "model_module_version": "1.2.0",
          "model_name": "LayoutModel",
          "state": {
            "_model_module": "@jupyter-widgets/base",
            "_model_module_version": "1.2.0",
            "_model_name": "LayoutModel",
            "_view_count": null,
            "_view_module": "@jupyter-widgets/base",
            "_view_module_version": "1.2.0",
            "_view_name": "LayoutView",
            "align_content": null,
            "align_items": null,
            "align_self": null,
            "border": null,
            "bottom": null,
            "display": null,
            "flex": null,
            "flex_flow": null,
            "grid_area": null,
            "grid_auto_columns": null,
            "grid_auto_flow": null,
            "grid_auto_rows": null,
            "grid_column": null,
            "grid_gap": null,
            "grid_row": null,
            "grid_template_areas": null,
            "grid_template_columns": null,
            "grid_template_rows": null,
            "height": null,
            "justify_content": null,
            "justify_items": null,
            "left": null,
            "margin": null,
            "max_height": null,
            "max_width": null,
            "min_height": null,
            "min_width": null,
            "object_fit": null,
            "object_position": null,
            "order": null,
            "overflow": null,
            "overflow_x": null,
            "overflow_y": null,
            "padding": null,
            "right": null,
            "top": null,
            "visibility": null,
            "width": "50%"
          }
        },
        "19e656590d47420c8425bc3674df1028": {
          "model_module": "@jupyter-widgets/base",
          "model_module_version": "1.2.0",
          "model_name": "LayoutModel",
          "state": {
            "_model_module": "@jupyter-widgets/base",
            "_model_module_version": "1.2.0",
            "_model_name": "LayoutModel",
            "_view_count": null,
            "_view_module": "@jupyter-widgets/base",
            "_view_module_version": "1.2.0",
            "_view_name": "LayoutView",
            "align_content": null,
            "align_items": null,
            "align_self": null,
            "border": null,
            "bottom": null,
            "display": null,
            "flex": null,
            "flex_flow": null,
            "grid_area": null,
            "grid_auto_columns": null,
            "grid_auto_flow": null,
            "grid_auto_rows": null,
            "grid_column": null,
            "grid_gap": null,
            "grid_row": null,
            "grid_template_areas": null,
            "grid_template_columns": null,
            "grid_template_rows": null,
            "height": null,
            "justify_content": null,
            "justify_items": null,
            "left": null,
            "margin": null,
            "max_height": null,
            "max_width": null,
            "min_height": null,
            "min_width": null,
            "object_fit": null,
            "object_position": null,
            "order": null,
            "overflow": null,
            "overflow_x": null,
            "overflow_y": null,
            "padding": null,
            "right": null,
            "top": null,
            "visibility": null,
            "width": null
          }
        },
        "2e332c4fdc98401d8eb3aced9eef28fc": {
          "model_module": "@jupyter-widgets/base",
          "model_module_version": "1.2.0",
          "model_name": "LayoutModel",
          "state": {
            "_model_module": "@jupyter-widgets/base",
            "_model_module_version": "1.2.0",
            "_model_name": "LayoutModel",
            "_view_count": null,
            "_view_module": "@jupyter-widgets/base",
            "_view_module_version": "1.2.0",
            "_view_name": "LayoutView",
            "align_content": null,
            "align_items": null,
            "align_self": null,
            "border": null,
            "bottom": null,
            "display": null,
            "flex": null,
            "flex_flow": null,
            "grid_area": null,
            "grid_auto_columns": null,
            "grid_auto_flow": null,
            "grid_auto_rows": null,
            "grid_column": null,
            "grid_gap": null,
            "grid_row": null,
            "grid_template_areas": null,
            "grid_template_columns": null,
            "grid_template_rows": null,
            "height": null,
            "justify_content": null,
            "justify_items": null,
            "left": null,
            "margin": null,
            "max_height": null,
            "max_width": null,
            "min_height": null,
            "min_width": null,
            "object_fit": null,
            "object_position": null,
            "order": null,
            "overflow": null,
            "overflow_x": null,
            "overflow_y": null,
            "padding": null,
            "right": null,
            "top": null,
            "visibility": null,
            "width": "50%"
          }
        },
        "7538a7e24cdd4714b5ad7c3124716726": {
          "model_module": "@jupyter-widgets/controls",
          "model_module_version": "1.5.0",
          "model_name": "TextModel",
          "state": {
            "_dom_classes": [],
            "_model_module": "@jupyter-widgets/controls",
            "_model_module_version": "1.5.0",
            "_model_name": "TextModel",
            "_view_count": null,
            "_view_module": "@jupyter-widgets/controls",
            "_view_module_version": "1.5.0",
            "_view_name": "TextView",
            "continuous_update": true,
            "description": "",
            "description_tooltip": null,
            "disabled": false,
            "layout": "IPY_MODEL_2e332c4fdc98401d8eb3aced9eef28fc",
            "placeholder": "​",
            "style": "IPY_MODEL_7d2f2fd14680465d82439da82a852d86",
            "value": "shulz_bank"
          }
        },
        "7bfb1d016c8b4c21ba9d638f4ff515c8": {
          "model_module": "@jupyter-widgets/controls",
          "model_module_version": "1.5.0",
          "model_name": "DescriptionStyleModel",
          "state": {
            "_model_module": "@jupyter-widgets/controls",
            "_model_module_version": "1.5.0",
            "_model_name": "DescriptionStyleModel",
            "_view_count": null,
            "_view_module": "@jupyter-widgets/base",
            "_view_module_version": "1.2.0",
            "_view_name": "StyleView",
            "description_width": ""
          }
        },
        "7d2f2fd14680465d82439da82a852d86": {
          "model_module": "@jupyter-widgets/controls",
          "model_module_version": "1.5.0",
          "model_name": "DescriptionStyleModel",
          "state": {
            "_model_module": "@jupyter-widgets/controls",
            "_model_module_version": "1.5.0",
            "_model_name": "DescriptionStyleModel",
            "_view_count": null,
            "_view_module": "@jupyter-widgets/base",
            "_view_module_version": "1.2.0",
            "_view_name": "StyleView",
            "description_width": ""
          }
        },
        "a72b92a6d4754dd2881f46e400ac921e": {
          "model_module": "@jupyter-widgets/controls",
          "model_module_version": "1.5.0",
          "model_name": "HBoxModel",
          "state": {
            "_dom_classes": [],
            "_model_module": "@jupyter-widgets/controls",
            "_model_module_version": "1.5.0",
            "_model_name": "HBoxModel",
            "_view_count": null,
            "_view_module": "@jupyter-widgets/controls",
            "_view_module_version": "1.5.0",
            "_view_name": "HBoxView",
            "box_style": "",
            "children": [
              "IPY_MODEL_e39c4ac95fe44568ac2e78160cdbf53d",
              "IPY_MODEL_7538a7e24cdd4714b5ad7c3124716726"
            ],
            "layout": "IPY_MODEL_04aa6302c3ed42a5b0ea05dc80a6f86f"
          }
        },
        "a741fc9a7c1a4add8d0a8367817c00ee": {
          "model_module": "@jupyter-widgets/controls",
          "model_module_version": "1.5.0",
          "model_name": "TextModel",
          "state": {
            "_dom_classes": [],
            "_model_module": "@jupyter-widgets/controls",
            "_model_module_version": "1.5.0",
            "_model_name": "TextModel",
            "_view_count": null,
            "_view_module": "@jupyter-widgets/controls",
            "_view_module_version": "1.5.0",
            "_view_name": "TextView",
            "continuous_update": true,
            "description": "",
            "description_tooltip": null,
            "disabled": false,
            "layout": "IPY_MODEL_08c6dc5aa31a4d3bb5d474c4f5ec5252",
            "placeholder": "​",
            "style": "IPY_MODEL_7bfb1d016c8b4c21ba9d638f4ff515c8",
            "value": "This is a text field"
          }
        },
        "b738a108f10443279d8d56b4db6ce4ad": {
          "model_module": "@jupyter-widgets/controls",
          "model_module_version": "1.5.0",
          "model_name": "ToggleButtonsStyleModel",
          "state": {
            "_model_module": "@jupyter-widgets/controls",
            "_model_module_version": "1.5.0",
            "_model_name": "ToggleButtonsStyleModel",
            "_view_count": null,
            "_view_module": "@jupyter-widgets/base",
            "_view_module_version": "1.2.0",
            "_view_name": "StyleView",
            "button_width": "",
            "description_width": "initial",
            "font_weight": ""
          }
        },
        "bf6e619ae4964f159faec71776362406": {
          "model_module": "@jupyter-widgets/controls",
          "model_module_version": "1.5.0",
          "model_name": "DescriptionStyleModel",
          "state": {
            "_model_module": "@jupyter-widgets/controls",
            "_model_module_version": "1.5.0",
            "_model_name": "DescriptionStyleModel",
            "_view_count": null,
            "_view_module": "@jupyter-widgets/base",
            "_view_module_version": "1.2.0",
            "_view_name": "StyleView",
            "description_width": ""
          }
        },
        "c3e684289d7943de83d9880140188cf3": {
          "model_module": "@jupyter-widgets/base",
          "model_module_version": "1.2.0",
          "model_name": "LayoutModel",
          "state": {
            "_model_module": "@jupyter-widgets/base",
            "_model_module_version": "1.2.0",
            "_model_name": "LayoutModel",
            "_view_count": null,
            "_view_module": "@jupyter-widgets/base",
            "_view_module_version": "1.2.0",
            "_view_name": "LayoutView",
            "align_content": null,
            "align_items": null,
            "align_self": null,
            "border": null,
            "bottom": null,
            "display": null,
            "flex": null,
            "flex_flow": null,
            "grid_area": null,
            "grid_auto_columns": null,
            "grid_auto_flow": null,
            "grid_auto_rows": null,
            "grid_column": null,
            "grid_gap": null,
            "grid_row": null,
            "grid_template_areas": null,
            "grid_template_columns": null,
            "grid_template_rows": null,
            "height": null,
            "justify_content": null,
            "justify_items": null,
            "left": null,
            "margin": null,
            "max_height": null,
            "max_width": null,
            "min_height": null,
            "min_width": null,
            "object_fit": null,
            "object_position": null,
            "order": null,
            "overflow": null,
            "overflow_x": null,
            "overflow_y": null,
            "padding": null,
            "right": null,
            "top": null,
            "visibility": null,
            "width": null
          }
        },
        "e39c4ac95fe44568ac2e78160cdbf53d": {
          "model_module": "@jupyter-widgets/controls",
          "model_module_version": "1.5.0",
          "model_name": "HTMLModel",
          "state": {
            "_dom_classes": [],
            "_model_module": "@jupyter-widgets/controls",
            "_model_module_version": "1.5.0",
            "_model_name": "HTMLModel",
            "_view_count": null,
            "_view_module": "@jupyter-widgets/controls",
            "_view_module_version": "1.5.0",
            "_view_name": "HTMLView",
            "description": "",
            "description_tooltip": null,
            "layout": "IPY_MODEL_19e656590d47420c8425bc3674df1028",
            "placeholder": "​",
            "style": "IPY_MODEL_bf6e619ae4964f159faec71776362406",
            "value": "<b>Project name:</b>"
          }
        }
      }
    }
  },
  "nbformat": 4,
  "nbformat_minor": 0
}
